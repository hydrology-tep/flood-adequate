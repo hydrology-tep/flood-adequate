{
 "cells": [
  {
   "cell_type": "code",
   "execution_count": 31,
   "metadata": {},
   "outputs": [],
   "source": [
    "kurashiki = 'POINT(132.96 34.47)'"
   ]
  },
  {
   "cell_type": "code",
   "execution_count": 32,
   "metadata": {},
   "outputs": [],
   "source": [
    "from shapely.wkt import loads\n",
    "from shapely.geometry import box\n",
    "from shapely.wkt import loads \n",
    "\n",
    "import cioppy\n",
    "ciop = cioppy.Cioppy()"
   ]
  },
  {
   "cell_type": "code",
   "execution_count": 33,
   "metadata": {},
   "outputs": [],
   "source": [
    "aoi_wkt = box(*loads(kurashiki).buffer(0.1).bounds).wkt"
   ]
  },
  {
   "cell_type": "code",
   "execution_count": 34,
   "metadata": {},
   "outputs": [
    {
     "data": {
      "text/plain": [
       "'POLYGON ((133.06 34.37, 133.06 34.57, 132.86 34.57, 132.86 34.37, 133.06 34.37))'"
      ]
     },
     "execution_count": 34,
     "metadata": {},
     "output_type": "execute_result"
    }
   ],
   "source": [
    "aoi_wkt"
   ]
  },
  {
   "cell_type": "code",
   "execution_count": 35,
   "metadata": {},
   "outputs": [],
   "source": [
    "dp = 'https://hydrology-tep.eo.esa.int/t2api/data/package/kurashiki/search?key=fd7f7796-b149-4bd5-8757-4e6cd385f7c7'"
   ]
  },
  {
   "cell_type": "code",
   "execution_count": 20,
   "metadata": {},
   "outputs": [],
   "source": [
    "s = ciop.search(end_point = dp,\n",
    "                     params = [],\n",
    "                     output_fields='self')"
   ]
  },
  {
   "cell_type": "code",
   "execution_count": 22,
   "metadata": {},
   "outputs": [
    {
     "name": "stdout",
     "output_type": "stream",
     "text": [
      "https://catalog.terradue.com//sentinel1/series/GRD/search?format=atom&uid=S1A_IW_GRDH_1SDV_20180710T210820_20180710T210845_022737_0276D8_EE0D\n",
      "https://catalog.terradue.com//sentinel1/series/GRD/search?format=atom&uid=S1A_IW_GRDH_1SDV_20180628T210819_20180628T210844_022562_0271AB_5EC9\n",
      "https://catalog.terradue.com//sentinel1/series/GRD/search?format=atom&uid=S1A_IW_GRDH_1SDV_20180616T210818_20180616T210843_022387_026C91_2BFC\n",
      "https://catalog.terradue.com//sentinel1/series/GRD/search?format=atom&uid=S1A_IW_GRDH_1SDV_20180604T210817_20180604T210842_022212_02672C_A700\n",
      "https://catalog.terradue.com//sentinel1/series/GRD/search?format=atom&uid=S1A_IW_GRDH_1SDV_20180523T210817_20180523T210842_022037_0261A2_F2E6\n",
      "https://catalog.terradue.com//sentinel1/series/GRD/search?format=atom&uid=S1A_IW_GRDH_1SDV_20180511T210816_20180511T210841_021862_025C14_BB6B\n",
      "https://catalog.terradue.com//sentinel1/series/GRD/search?format=atom&uid=S1A_IW_GRDH_1SDV_20180429T210815_20180429T210840_021687_02567D_7268\n",
      "https://catalog.terradue.com//sentinel1/series/GRD/search?format=atom&uid=S1A_IW_GRDH_1SDV_20180417T210815_20180417T210840_021512_025107_8E61\n",
      "https://catalog.terradue.com//sentinel1/series/GRD/search?format=atom&uid=S1A_IW_GRDH_1SDV_20180405T210814_20180405T210839_021337_024B86_EDB0\n",
      "https://catalog.terradue.com//sentinel1/series/GRD/search?format=atom&uid=S1A_IW_GRDH_1SDV_20180324T210814_20180324T210839_021162_02460C_D571\n",
      "https://catalog.terradue.com//sentinel1/series/GRD/search?format=atom&uid=S1A_IW_GRDH_1SDV_20180312T210814_20180312T210839_020987_02407D_A2E6\n",
      "https://catalog.terradue.com//sentinel1/series/GRD/search?format=atom&uid=S1A_IW_GRDH_1SDV_20180228T210814_20180228T210839_020812_023AF6_1868\n"
     ]
    }
   ],
   "source": [
    "for index, i in enumerate(s):\n",
    "    print i['self']"
   ]
  },
  {
   "cell_type": "code",
   "execution_count": null,
   "metadata": {},
   "outputs": [],
   "source": []
  }
 ],
 "metadata": {
  "kernelspec": {
   "display_name": "Python 2",
   "language": "python",
   "name": "python2"
  },
  "language_info": {
   "codemirror_mode": {
    "name": "ipython",
    "version": 2
   },
   "file_extension": ".py",
   "mimetype": "text/x-python",
   "name": "python",
   "nbconvert_exporter": "python",
   "pygments_lexer": "ipython2",
   "version": "2.7.12"
  }
 },
 "nbformat": 4,
 "nbformat_minor": 2
}
